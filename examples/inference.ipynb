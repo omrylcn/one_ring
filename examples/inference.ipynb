{
 "cells": [
  {
   "cell_type": "code",
   "execution_count": null,
   "metadata": {},
   "outputs": [],
   "source": [
    "%load_ext autoreload\n",
    "%autoreload 2\n",
    "\n",
    "import sys\n",
    "sys.path.append('../')\n",
    "\n",
    "import numpy as np\n",
    "import matplotlib.pyplot as plt\n",
    "\n",
    "from tf_seg.deploy import Inferencer"
   ]
  },
  {
   "cell_type": "code",
   "execution_count": null,
   "metadata": {},
   "outputs": [],
   "source": [
    "inference_config = dict(\n",
    "    image_size=(512, 512),\n",
    "    normalizing=True,\n",
    "    model_type=\"onnx\",  # onnx or tf\n",
    "    model_path=\"test_resnet50_binary_road\",  # model folder path , not file\n",
    "    preprocessor_type=\"albumentations\",\n",
    "    preprocessor_path=\"tf_seg.transformers.albumentations:get_test_transform\",\n",
    "    postprocessor_type=\"vanilla\", # vanilla or None\n",
    "    postprocessor_path=None,\n",
    "    threshold=0.9,\n",
    "    seed=48,\n",
    "    device=\"gpu\" # cpu or gpu\n",
    ")"
   ]
  },
  {
   "cell_type": "code",
   "execution_count": null,
   "metadata": {},
   "outputs": [],
   "source": [
    "inf = Inferencer(**inference_config)"
   ]
  },
  {
   "cell_type": "code",
   "execution_count": null,
   "metadata": {},
   "outputs": [],
   "source": [
    "image_path1 = \"test_images/road_1.webp\"\n",
    "image_path2 = \"test_images/road_2.jpg\""
   ]
  },
  {
   "cell_type": "code",
   "execution_count": null,
   "metadata": {},
   "outputs": [],
   "source": [
    "image = plt.imread(image_path2)\n",
    "image.shape"
   ]
  },
  {
   "cell_type": "code",
   "execution_count": null,
   "metadata": {},
   "outputs": [],
   "source": [
    "pred = inf.predict(image)"
   ]
  },
  {
   "cell_type": "code",
   "execution_count": null,
   "metadata": {},
   "outputs": [],
   "source": [
    "pred_image = pred[1][0]\n",
    "plt.imshow(pred_image)"
   ]
  },
  {
   "cell_type": "code",
   "execution_count": null,
   "metadata": {},
   "outputs": [],
   "source": [
    "plt.imshow(inf.input_image[0])"
   ]
  },
  {
   "cell_type": "code",
   "execution_count": null,
   "metadata": {},
   "outputs": [],
   "source": [
    "%%timeit\n",
    "pred = inf.predict(image)"
   ]
  },
  {
   "cell_type": "code",
   "execution_count": null,
   "metadata": {},
   "outputs": [],
   "source": [
    "compare_list = {\n",
    "    \"onnx_cpu\": {\"device\": \"cpu\", \"model_type\": \"onnx\"},\n",
    "    \"onnx_gpu\": {\"device\": \"gpu\", \"model_type\": \"onnx\"},\n",
    "    \"tf_cpu\": {\"device\": \"cpu\", \"model_type\": \"tf\"},\n",
    "    \"tf_gpu\": {\"device\": \"gpu\", \"model_type\": \"tf\"},\n",
    "}\n",
    "\n",
    "\n",
    "model_list = {\"restnet\": {\"model_path\": \"test_resnet50_binary_road\"}, \"efficientnet\": {\"model_path\": \"test_efficientnetb0_binary_road\"}}\n"
   ]
  },
  {
   "cell_type": "code",
   "execution_count": null,
   "metadata": {},
   "outputs": [],
   "source": [
    "for model_name,model_path in model_list.items():\n",
    "    for key, value in compare_list.items():\n",
    "        print(model_name+\"_\"+key)\n",
    "        inference_config.update(value)\n",
    "        inference_config.update(model_path)\n",
    "        inf = Inferencer(**inference_config)\n",
    "        %timeit pred = inf.predict(image)\n",
    "        print(\"-\"*50)"
   ]
  },
  {
   "cell_type": "code",
   "execution_count": null,
   "metadata": {},
   "outputs": [],
   "source": []
  }
 ],
 "metadata": {
  "kernelspec": {
   "display_name": "Python 3.10.6 ('tf-gpu')",
   "language": "python",
   "name": "python3"
  },
  "language_info": {
   "codemirror_mode": {
    "name": "ipython",
    "version": 3
   },
   "file_extension": ".py",
   "mimetype": "text/x-python",
   "name": "python",
   "nbconvert_exporter": "python",
   "pygments_lexer": "ipython3",
   "version": "3.10.6"
  },
  "orig_nbformat": 4,
  "vscode": {
   "interpreter": {
    "hash": "14fd65a77c7a2c5efcd4f7ba6e068015b8f7e05adad28b56e1e2be17331d6d0c"
   }
  }
 },
 "nbformat": 4,
 "nbformat_minor": 2
}
