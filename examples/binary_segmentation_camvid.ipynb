{
 "cells": [
  {
   "cell_type": "code",
   "execution_count": 5,
   "metadata": {},
   "outputs": [
    {
     "name": "stderr",
     "output_type": "stream",
     "text": [
      "2022-08-20 02:04:24.379625: W tensorflow/stream_executor/platform/default/dso_loader.cc:64] Could not load dynamic library 'libcudart.so.11.0'; dlerror: libcudart.so.11.0: cannot open shared object file: No such file or directory; LD_LIBRARY_PATH: /home/omr/.local/lib/python3.8/site-packages/cv2/../../lib64:\n",
      "2022-08-20 02:04:24.379669: I tensorflow/stream_executor/cuda/cudart_stub.cc:29] Ignore above cudart dlerror if you do not have a GPU set up on your machine.\n"
     ]
    }
   ],
   "source": [
    "%load_ext autoreload\n",
    "%autoreload 2\n",
    "\n",
    "import sys\n",
    "sys.path.append('../')\n",
    "\n",
    "import numpy as np\n",
    "import matplotlib.pyplot as plt\n",
    "import albumentations as A\n",
    "\n",
    "import tensorflow as tf\n",
    "from tensorflow import keras\n",
    "\n",
    "#from tf_seg.data import DataLoader\n",
    "from tf_seg.data import get_camvid_data_loader\n",
    "from tf_seg.models import Unet\n",
    "from tf_seg.losses import FocalTverskyLoss\n",
    "from tf_seg.metrics import DiceScore\n",
    "from tf_seg.utils import AlbumentatiosWrapper"
   ]
  },
  {
   "cell_type": "code",
   "execution_count": 19,
   "metadata": {},
   "outputs": [],
   "source": [
    "# camvid data config\n",
    "\n",
    "data_config = dict(\n",
    "    data_path=\"../dataset/camvid\",\n",
    "    classes=[\"Road\"],\n",
    "    normalizing=True,\n",
    "    palette=[(128, 64, 128)],\n",
    "    one_hot_encoding=True,  # target output shape\n",
    "    background_adding=False,  # add target background class\n",
    "    image_size=(256, 256),\n",
    "    batch_size=16,\n",
    "    output_type=(\"tf.float32\", \"tf.float32\"),  # data types after data processing\n",
    "    channels=(3, 3),  # it is optional\n",
    ")\n",
    "\n",
    "model_config = dict(\n",
    "    #n_filters=[16, 32, 64, 128, 256],\n",
    "    n_filters=[4, 8, 16, 32, 64],\n",
    "    input_shape=[data_config[\"image_size\"][0], data_config[\"image_size\"][1],3],\n",
    "    final_activation=\"sigmoid\",\n",
    "    activation=\"relu\",\n",
    "    backbone=\"resnet34\",\n",
    "    pretrained=True,\n",
    ")\n",
    "\n",
    "\n",
    "# epochs = 10\n"
   ]
  },
  {
   "cell_type": "markdown",
   "metadata": {},
   "source": [
    "#### DataLoader"
   ]
  },
  {
   "cell_type": "code",
   "execution_count": 20,
   "metadata": {},
   "outputs": [],
   "source": [
    "train_data_loader,val_data_loader,test_data_loader = get_camvid_data_loader(data_config)"
   ]
  },
  {
   "cell_type": "code",
   "execution_count": 21,
   "metadata": {},
   "outputs": [],
   "source": [
    "train_dataset = train_data_loader.load_data()\n",
    "val_dataset = val_data_loader.load_data()\n",
    "test_dataset = test_data_loader.load_data()"
   ]
  },
  {
   "cell_type": "code",
   "execution_count": 22,
   "metadata": {},
   "outputs": [
    {
     "data": {
      "image/png": "[encoded data removed]",
      "text/plain": [
       "<Figure size 720x720 with 3 Axes>"
      ]
     },
     "metadata": {
      "needs_background": "light"
     },
     "output_type": "display_data"
    }
   ],
   "source": [
    "plt.figure(figsize=(10, 10))\n",
    "for i,m in train_dataset.take(1):\n",
    "    plt.subplot(1,3,1)\n",
    "    plt.imshow(m[0])\n",
    "\n",
    "for i,m in val_dataset.take(1):\n",
    "    plt.subplot(1,3,2)\n",
    "    plt.imshow(m[0])\n",
    "\n",
    "for i,m in test_dataset.take(1):\n",
    "    plt.subplot(1,3,3)\n",
    "    plt.imshow(m[0])"
   ]
  },
  {
   "cell_type": "markdown",
   "metadata": {},
   "source": [
    "**Witn augmentation function**"
   ]
  },
  {
   "cell_type": "code",
   "execution_count": 23,
   "metadata": {},
   "outputs": [],
   "source": [
    "IM_SIZE = data_config[\"image_size\"][0]\n",
    "\n",
    "\n",
    "train_transforms = A.Compose(\n",
    "    [\n",
    "        A.Resize(IM_SIZE, IM_SIZE),\n",
    "        A.OneOf([\n",
    "            A.RandomSizedCrop(min_max_height=(250, 256), height=IM_SIZE, width=IM_SIZE, p=0.5),\n",
    "            A.CenterCrop(height=IM_SIZE, width=IM_SIZE, p=0.5),\n",
    "            A.PadIfNeeded(min_height=IM_SIZE, min_width=IM_SIZE, p=0.5)\n",
    "            ], p=1),\n",
    "        A.OneOf([\n",
    "        A.VerticalFlip(p=0.5),\n",
    "        A.RandomRotate90(p=0.5),\n",
    "        A.Transpose(p=0.5)]),\n",
    "        A.OneOf([\n",
    "            A.ElasticTransform(alpha=120, sigma=120 * 0.05, alpha_affine=120 * 0.03, p=0.5),\n",
    "            A.GridDistortion(p=0.5),\n",
    "            A.OpticalDistortion(distort_limit=2, shift_limit=0.5, p=1)\n",
    "            ], p=0.8),\n",
    "    ]\n",
    ")\n",
    "\n",
    "test_transforms = A.Compose(\n",
    "    [\n",
    "        A.Resize(IM_SIZE, IM_SIZE),\n",
    "      \n",
    "    ]\n",
    ")\n",
    "\n"
   ]
  },
  {
   "cell_type": "code",
   "execution_count": 24,
   "metadata": {},
   "outputs": [],
   "source": [
    "tr_transforms_object = AlbumentatiosWrapper(train_transforms)\n",
    "ts_transforms_object = AlbumentatiosWrapper(test_transforms)\n",
    "\n",
    "# get datasets with augmentation\n",
    "\n",
    "train_dataset = train_data_loader.load_data(transform_func=tr_transforms_object)\n",
    "val_dataset = val_data_loader.load_data(transform_func=ts_transforms_object)\n",
    "test_dataset = test_data_loader.load_data(transform_func=ts_transforms_object)"
   ]
  },
  {
   "cell_type": "markdown",
   "metadata": {},
   "source": [
    "#### Make Model"
   ]
  },
  {
   "cell_type": "code",
   "execution_count": 25,
   "metadata": {},
   "outputs": [
    {
     "name": "stdout",
     "output_type": "stream",
     "text": [
      "{'n_filters': [4, 8, 16, 32, 64], 'input_shape': [256, 256, 3], 'final_activation': 'sigmoid', 'activation': 'relu', 'backbone': 'resnet34', 'pretrained': True}\n"
     ]
    }
   ],
   "source": [
    "print(model_config)\n",
    "       "
   ]
  },
  {
   "cell_type": "code",
   "execution_count": 26,
   "metadata": {},
   "outputs": [],
   "source": [
    "model_maker = Unet(**model_config)"
   ]
  },
  {
   "cell_type": "code",
   "execution_count": 27,
   "metadata": {},
   "outputs": [],
   "source": [
    "model = Unet(**model_config).build_model()\n",
    "#model.summary()"
   ]
  },
  {
   "cell_type": "code",
   "execution_count": 28,
   "metadata": {},
   "outputs": [],
   "source": [
    "model.compile(optimizer=keras.optimizers.Adam(learning_rate=1e-4), loss=FocalTverskyLoss(alpha=0.5, gamma=0.5), metrics=[DiceScore()])"
   ]
  },
  {
   "cell_type": "code",
   "execution_count": null,
   "metadata": {},
   "outputs": [],
   "source": [
    "model_history = model.fit(train_dataset, epochs=10, validation_data=val_dataset, verbose=1)"
   ]
  },
  {
   "cell_type": "code",
   "execution_count": null,
   "metadata": {},
   "outputs": [],
   "source": []
  }
 ],
 "metadata": {
  "kernelspec": {
   "display_name": "Python 3.8.2 ('keras')",
   "language": "python",
   "name": "python3"
  },
  "language_info": {
   "codemirror_mode": {
    "name": "ipython",
    "version": 3
   },
   "file_extension": ".py",
   "mimetype": "text/x-python",
   "name": "python",
   "nbconvert_exporter": "python",
   "pygments_lexer": "ipython3",
   "version": "3.8.2"
  },
  "orig_nbformat": 4,
  "vscode": {
   "interpreter": {
    "hash": "7148eac5b12788f51a97cd4e8b5a3e8cadca2c867e70c10a61d26cbdb1fea10b"
   }
  }
 },
 "nbformat": 4,
 "nbformat_minor": 2
}
