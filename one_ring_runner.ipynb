{
  "cells": [
    {
      "cell_type": "code",
      "execution_count": null,
      "metadata": {
        "colab": {
          "base_uri": "https://localhost:8080/"
        },
        "id": "IQGhhQVvIazA",
        "outputId": "f6e14d0c-32e3-4ced-e39a-513ec1b3ec8e"
      },
      "outputs": [],
      "source": [
        "%load_ext autoreload\n",
        "%autoreload 2\n",
        "\n",
        "\n",
        "import os \n",
        "import numpy as np\n",
        "import matplotlib.pyplot as plt\n",
        "import albumentations as A\n",
        "import cv2\n",
        "from glob import glob\n",
        "from tqdm import tqdm\n",
        "from tensorflow import keras\n",
        "from tensorflow.keras import layers\n",
        "from tensorflow.keras.metrics import Recall,Precision\n",
        "import  tensorflow_addons as tfa\n",
        "import tensorflow as tf\n",
        "import datetime\n",
        "import mlflow\n",
        "\n",
        "\n",
        "import one_ring\n",
        "from one_ring.config import get_config\n",
        "from one_ring.data import get_data_loader,get_camvid_data_loader\n",
        "from one_ring.transformers import Transformer\n",
        "from one_ring.models import Unet,DeepLabV3Plus,AttUnet\n",
        "from one_ring.losses import FocalTverskyLoss, DiceLoss\n",
        "from one_ring.train import Trainer\n",
        "from one_ring.callbacks import get_callbacks\n",
        "from one_ring.losses import FocalTverskyLoss, DiceLoss,LogCoshDiceLoss\n",
        "from one_ring.callbacks import ORLearningRateCallback \n",
        "from one_ring.scheduler import ORLearningRateScheduler\n",
        "from one_ring.utils import generate_overlay_image,calculate_confusion_matrix_and_report,plot_history_dict\n",
        "#from sklearn.metrics import classification_report, confusion_matrix\n",
        "#from sklearn.metrics import ConfusionMatrixDisplay\n",
        "\n",
        "print('tensorflow version :',tf.__version__)\n",
        "print('one_ring version :',one_ring.__version__)\n",
        "#print(tf.config.list_physical_devices())"
      ]
    },
    {
      "cell_type": "code",
      "execution_count": null,
      "metadata": {},
      "outputs": [],
      "source": [
        "config = get_config(config_filename=\"spinal_cord\")\n",
        "train_data_loader, val_data_loader = get_data_loader(config.data, train_data=True, val_data=True, test_data=False)\n",
        "\n",
        "IM_SIZE = config.data[\"image_size\"][0]\n",
        "\n",
        "aug_config = {\n",
        "    \"aug_prob\": 0.1,\n",
        "    \"random_contrast_limit\": 0.4,\n",
        "    \"random_brightness_limit\": 0.3,\n",
        "    \"rotate_limit\": 10,\n",
        "}\n",
        "tracing_object = {\"mlflow\":{\"augmentation\":aug_config}}\n",
        "\n",
        "train_transforms = A.Compose(\n",
        "    [\n",
        "        A.Resize(IM_SIZE, IM_SIZE),\n",
        "        #A.GaussNoise(var_limit=(10.0, 50.0), p=aug_config[\"aug_prob\"]),\n",
        "        #A.CLAHE(p=aug_config[\"aug_prob\"]),\n",
        "       # A.RandomBrightnessContrast(p=aug_config[\"aug_prob\"], brightness_limit=aug_config[\"random_brightness_limit\"], contrast_limit=aug_config[\"random_contrast_limit\"]),\n",
        "       # A.RandomGamma(p=aug_config[\"aug_prob\"]),\n",
        "        A.Rotate(limit=aug_config[\"rotate_limit\"], p=aug_config[\"aug_prob\"]),\n",
        "        A.RandomSizedCrop(min_max_height=(400, 512), height=IM_SIZE, width=IM_SIZE, p=aug_config[\"aug_prob\"]),\n",
        "    ]\n",
        ")\n",
        "test_transforms = A.Compose(\n",
        "    [\n",
        "        A.Resize(IM_SIZE, IM_SIZE),\n",
        "        # A.Normalize(mean=[0.485, 0.456, 0.406], std=[0.229, 0.224, 0.225])\n",
        "    ]\n",
        ")\n",
        "tr_transforms_object = Transformer(config.augmentation, \"train\", train_transforms)\n",
        "ts_transforms_object = Transformer(config.augmentation, \"test\", test_transforms)\n",
        "train_dataset = train_data_loader.load_data(transform_func=tr_transforms_object).prefetch(tf.data.AUTOTUNE)\n",
        "val_dataset = val_data_loader.load_data(transform_func=ts_transforms_object, shuffle=False).prefetch(tf.data.AUTOTUNE)\n",
        "\n",
        "callbacks = get_callbacks(config.callbacks)\n",
        "\n",
        "steps_per_epoch = len(train_dataset)\n",
        "lr_schedule = ORLearningRateScheduler(\n",
        "    strategy=config.trainer.lr_scheduler[\"name\"],\n",
        "    total_epochs=config.trainer.epochs,\n",
        "    steps_per_epoch=steps_per_epoch,\n",
        "    **config.trainer.lr_scheduler[\"params\"]\n",
        ").get()\n",
        "\n",
        "\n",
        "\n",
        "log_dir = f\"board_logs/{config.trainer.experiment_name}/\" + datetime.datetime.now().strftime(\"%Y%m%d-%H%M%S\")\n",
        "callbacks[\"tensorboard\"] = tf.keras.callbacks.TensorBoard(log_dir=log_dir,histogram_freq=1, write_images=True, write_graph=True, update_freq='epoch')#, profile_batch='500,520')\n",
        "\n",
        "#callbacks[\"lr_sch\"]= tf.keras.callbacks.LearningRateScheduler(cosine_decay_scheduler)\n",
        "\n",
        "# callbacks[\"lr_sch\"] = OneRingLearningRateScheduler(cosine_decay_scheduler)\n",
        "callbacks[\"lr_sch\"] = ORLearningRateCallback(lr_schedule)"
      ]
    },
    {
      "cell_type": "code",
      "execution_count": null,
      "metadata": {},
      "outputs": [],
      "source": [
        "gamma = 4/3\n",
        "alpha = 0.5\n",
        "\n",
        "losses = [FocalTverskyLoss(gamma=gamma,alpha=alpha)]\n",
        "#losses = [LogCoshDiceLoss()]\n",
        "#losses = [BASNetHybridLoss()]\n",
        "metrics = [Recall(),Precision()]"
      ]
    },
    {
      "cell_type": "code",
      "execution_count": null,
      "metadata": {},
      "outputs": [],
      "source": [
        "model = AttUnet(**config.model).build_model()\n",
        "#model = Unet(**config.model).build_model()\n",
        "#model.summary()\n",
        "#keras.utils.plot_model(model, show_shapes=True, to_file='model.png')\n",
        "trainer = Trainer(config, model, train_dataset, val_dataset, callbacks=callbacks, metrics=metrics,losses=losses,tracing_object=tracing_object)"
      ]
    },
    {
      "cell_type": "code",
      "execution_count": null,
      "metadata": {},
      "outputs": [],
      "source": [
        "trainer.fit(continue_training=True)\n",
        "model = trainer._model"
      ]
    },
    {
      "cell_type": "code",
      "execution_count": null,
      "metadata": {},
      "outputs": [],
      "source": [
        "model.evaluate(val_dataset)"
      ]
    },
    {
      "cell_type": "code",
      "execution_count": null,
      "metadata": {},
      "outputs": [],
      "source": [
        "trainer.end()"
      ]
    },
    {
      "cell_type": "code",
      "execution_count": null,
      "metadata": {},
      "outputs": [],
      "source": [
        "# scores = model.evaluate(val_dataset, verbose=1)\n",
        "\n",
        "# save_path = f\"best/\"\n",
        "# os.makedirs(save_path,exist_ok=True)\n",
        "# model_name = save_path+f\"d-{config.data.name}-dsc-{scores[1]:.4f}\"\n",
        "# #model.save(model_name)\n",
        "# trainer.save(model_name)"
      ]
    },
    {
      "cell_type": "code",
      "execution_count": null,
      "metadata": {},
      "outputs": [],
      "source": [
        "def calculate_binary_differece(target, pred):\n",
        "    # Calculate differences\n",
        "    tp = (pred == 1) & (target == 1)  # True Positives\n",
        "    fp = (pred == 1) & (target == 0)  # False Positives\n",
        "    fn = (pred == 0) & (target == 1)  # False Negatives\n",
        "\n",
        "    # Create an RGB image where each difference is colored differently\n",
        "    # Initialize with zeros (black) for the background\n",
        "    diff_image = np.zeros(target.shape + (3,), dtype=np.uint8)\n",
        "\n",
        "    # Assign colors (R, G, B)\n",
        "    # True Positives in green\n",
        "    diff_image[tp] = [0, 255, 0]\n",
        "    # False Positives in red\n",
        "    diff_image[fp] = [255, 0, 0]\n",
        "    # False Negatives in blue\n",
        "    diff_image[fn] = [0, 0, 255]\n",
        "\n",
        "    diff_image_corrected = np.squeeze(diff_image, axis=2)\n",
        "\n",
        "    return diff_image_corrected"
      ]
    },
    {
      "cell_type": "code",
      "execution_count": null,
      "metadata": {},
      "outputs": [],
      "source": [
        "threshold = 0.6\n",
        "for i in val_dataset:\n",
        "    pred_logits = model.predict(i[0])\n",
        "\n",
        "\n",
        "\n",
        "    for n in range(len(i[0])): \n",
        "        image = i[0][n].numpy().astype(np.uint8)\n",
        "        pred_logit = pred_logits[n]\n",
        "     #   print(pred_logit.shape)\n",
        "        pred_value = np.where(pred_logit>threshold,1,0).reshape(512,512,1)\n",
        "        pred_mask = (pred_value*255).astype(np.uint8)\n",
        "\n",
        "    #    print(pred_mask.shape, image.shape)\n",
        "        overlay = generate_overlay_image(pred_mask, image, alpha=0.3)\n",
        "        target = i[1][n].numpy()\n",
        "        np.unique(target,return_counts=True)    \n",
        "\n",
        "        plt.figure(figsize=(20,10))\n",
        "        plt.subplot(1,3,1)\n",
        "        plt.title('target')\n",
        "        plt.imshow(target)\n",
        "        plt.grid(True)\n",
        "        plt.subplot(1,3,2)\n",
        "        plt.imshow(pred_value)\n",
        "        plt.grid(True)\n",
        "        plt.subplot(1,3,3)\n",
        "        plt.imshow(overlay)\n",
        "        plt.grid(True)\n",
        "        plt.show()\n",
        "\n",
        "        #print(pred_value.shape, target.shape)\n",
        "\n",
        "        cm,cr = calculate_confusion_matrix_and_report(pred_value, target)\n",
        "        print(cm)\n",
        "        print(cr)\n",
        "\n",
        "        diff_image_corrected = calculate_binary_differece(target, pred_value)\n",
        "        im = diff_image_corrected[150:350, 150:350]\n",
        "        \n",
        "        plt.figure(figsize=(10,10))\n",
        "        plt.imshow(im,cmap='gray')\n",
        "        plt.grid(True)\n",
        "        plt.show()\n",
        "\n",
        "\n",
        "    \n",
        "        \n",
        "\n",
        "        "
      ]
    },
    {
      "cell_type": "code",
      "execution_count": null,
      "metadata": {
        "id": "1T1hRjlQ-OMq"
      },
      "outputs": [],
      "source": []
    },
    {
      "cell_type": "code",
      "execution_count": null,
      "metadata": {
        "id": "LbryLV7n-Nzz"
      },
      "outputs": [],
      "source": []
    }
  ],
  "metadata": {
    "accelerator": "GPU",
    "colab": {
      "gpuType": "V100",
      "machine_shape": "hm",
      "provenance": []
    },
    "gpuClass": "standard",
    "kernelspec": {
      "display_name": "Python 3",
      "name": "python3"
    },
    "language_info": {
      "codemirror_mode": {
        "name": "ipython",
        "version": 3
      },
      "file_extension": ".py",
      "mimetype": "text/x-python",
      "name": "python",
      "nbconvert_exporter": "python",
      "pygments_lexer": "ipython3",
      "version": "3.10.6"
    }
  },
  "nbformat": 4,
  "nbformat_minor": 0
}
